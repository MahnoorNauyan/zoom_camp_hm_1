{
 "cells": [
  {
   "cell_type": "code",
   "execution_count": 3,
   "metadata": {},
   "outputs": [],
   "source": [
    "import pandas as pd\n",
    "import numpy as np"
   ]
  },
  {
   "cell_type": "markdown",
   "metadata": {},
   "source": [
    "Question1:Version of NumPy*"
   ]
  },
  {
   "cell_type": "code",
   "execution_count": 4,
   "metadata": {},
   "outputs": [
    {
     "data": {
      "text/plain": [
       "'1.21.6'"
      ]
     },
     "execution_count": 4,
     "metadata": {},
     "output_type": "execute_result"
    }
   ],
   "source": [
    "np.__version__"
   ]
  },
  {
   "cell_type": "markdown",
   "metadata": {},
   "source": [
    "Question2: Number of records in the dataset"
   ]
  },
  {
   "cell_type": "code",
   "execution_count": 5,
   "metadata": {},
   "outputs": [
    {
     "data": {
      "text/html": [
       "<div>\n",
       "<style scoped>\n",
       "    .dataframe tbody tr th:only-of-type {\n",
       "        vertical-align: middle;\n",
       "    }\n",
       "\n",
       "    .dataframe tbody tr th {\n",
       "        vertical-align: top;\n",
       "    }\n",
       "\n",
       "    .dataframe thead th {\n",
       "        text-align: right;\n",
       "    }\n",
       "</style>\n",
       "<table border=\"1\" class=\"dataframe\">\n",
       "  <thead>\n",
       "    <tr style=\"text-align: right;\">\n",
       "      <th></th>\n",
       "      <th>Make</th>\n",
       "      <th>Model</th>\n",
       "      <th>Year</th>\n",
       "      <th>Engine Fuel Type</th>\n",
       "      <th>Engine HP</th>\n",
       "      <th>Engine Cylinders</th>\n",
       "      <th>Transmission Type</th>\n",
       "      <th>Driven_Wheels</th>\n",
       "      <th>Number of Doors</th>\n",
       "      <th>Market Category</th>\n",
       "      <th>Vehicle Size</th>\n",
       "      <th>Vehicle Style</th>\n",
       "      <th>highway MPG</th>\n",
       "      <th>city mpg</th>\n",
       "      <th>Popularity</th>\n",
       "      <th>MSRP</th>\n",
       "    </tr>\n",
       "  </thead>\n",
       "  <tbody>\n",
       "    <tr>\n",
       "      <th>0</th>\n",
       "      <td>BMW</td>\n",
       "      <td>1 Series M</td>\n",
       "      <td>2011</td>\n",
       "      <td>premium unleaded (required)</td>\n",
       "      <td>335.0</td>\n",
       "      <td>6.0</td>\n",
       "      <td>MANUAL</td>\n",
       "      <td>rear wheel drive</td>\n",
       "      <td>2.0</td>\n",
       "      <td>Factory Tuner,Luxury,High-Performance</td>\n",
       "      <td>Compact</td>\n",
       "      <td>Coupe</td>\n",
       "      <td>26</td>\n",
       "      <td>19</td>\n",
       "      <td>3916</td>\n",
       "      <td>46135</td>\n",
       "    </tr>\n",
       "    <tr>\n",
       "      <th>1</th>\n",
       "      <td>BMW</td>\n",
       "      <td>1 Series</td>\n",
       "      <td>2011</td>\n",
       "      <td>premium unleaded (required)</td>\n",
       "      <td>300.0</td>\n",
       "      <td>6.0</td>\n",
       "      <td>MANUAL</td>\n",
       "      <td>rear wheel drive</td>\n",
       "      <td>2.0</td>\n",
       "      <td>Luxury,Performance</td>\n",
       "      <td>Compact</td>\n",
       "      <td>Convertible</td>\n",
       "      <td>28</td>\n",
       "      <td>19</td>\n",
       "      <td>3916</td>\n",
       "      <td>40650</td>\n",
       "    </tr>\n",
       "    <tr>\n",
       "      <th>2</th>\n",
       "      <td>BMW</td>\n",
       "      <td>1 Series</td>\n",
       "      <td>2011</td>\n",
       "      <td>premium unleaded (required)</td>\n",
       "      <td>300.0</td>\n",
       "      <td>6.0</td>\n",
       "      <td>MANUAL</td>\n",
       "      <td>rear wheel drive</td>\n",
       "      <td>2.0</td>\n",
       "      <td>Luxury,High-Performance</td>\n",
       "      <td>Compact</td>\n",
       "      <td>Coupe</td>\n",
       "      <td>28</td>\n",
       "      <td>20</td>\n",
       "      <td>3916</td>\n",
       "      <td>36350</td>\n",
       "    </tr>\n",
       "    <tr>\n",
       "      <th>3</th>\n",
       "      <td>BMW</td>\n",
       "      <td>1 Series</td>\n",
       "      <td>2011</td>\n",
       "      <td>premium unleaded (required)</td>\n",
       "      <td>230.0</td>\n",
       "      <td>6.0</td>\n",
       "      <td>MANUAL</td>\n",
       "      <td>rear wheel drive</td>\n",
       "      <td>2.0</td>\n",
       "      <td>Luxury,Performance</td>\n",
       "      <td>Compact</td>\n",
       "      <td>Coupe</td>\n",
       "      <td>28</td>\n",
       "      <td>18</td>\n",
       "      <td>3916</td>\n",
       "      <td>29450</td>\n",
       "    </tr>\n",
       "    <tr>\n",
       "      <th>4</th>\n",
       "      <td>BMW</td>\n",
       "      <td>1 Series</td>\n",
       "      <td>2011</td>\n",
       "      <td>premium unleaded (required)</td>\n",
       "      <td>230.0</td>\n",
       "      <td>6.0</td>\n",
       "      <td>MANUAL</td>\n",
       "      <td>rear wheel drive</td>\n",
       "      <td>2.0</td>\n",
       "      <td>Luxury</td>\n",
       "      <td>Compact</td>\n",
       "      <td>Convertible</td>\n",
       "      <td>28</td>\n",
       "      <td>18</td>\n",
       "      <td>3916</td>\n",
       "      <td>34500</td>\n",
       "    </tr>\n",
       "    <tr>\n",
       "      <th>...</th>\n",
       "      <td>...</td>\n",
       "      <td>...</td>\n",
       "      <td>...</td>\n",
       "      <td>...</td>\n",
       "      <td>...</td>\n",
       "      <td>...</td>\n",
       "      <td>...</td>\n",
       "      <td>...</td>\n",
       "      <td>...</td>\n",
       "      <td>...</td>\n",
       "      <td>...</td>\n",
       "      <td>...</td>\n",
       "      <td>...</td>\n",
       "      <td>...</td>\n",
       "      <td>...</td>\n",
       "      <td>...</td>\n",
       "    </tr>\n",
       "    <tr>\n",
       "      <th>11909</th>\n",
       "      <td>Acura</td>\n",
       "      <td>ZDX</td>\n",
       "      <td>2012</td>\n",
       "      <td>premium unleaded (required)</td>\n",
       "      <td>300.0</td>\n",
       "      <td>6.0</td>\n",
       "      <td>AUTOMATIC</td>\n",
       "      <td>all wheel drive</td>\n",
       "      <td>4.0</td>\n",
       "      <td>Crossover,Hatchback,Luxury</td>\n",
       "      <td>Midsize</td>\n",
       "      <td>4dr Hatchback</td>\n",
       "      <td>23</td>\n",
       "      <td>16</td>\n",
       "      <td>204</td>\n",
       "      <td>46120</td>\n",
       "    </tr>\n",
       "    <tr>\n",
       "      <th>11910</th>\n",
       "      <td>Acura</td>\n",
       "      <td>ZDX</td>\n",
       "      <td>2012</td>\n",
       "      <td>premium unleaded (required)</td>\n",
       "      <td>300.0</td>\n",
       "      <td>6.0</td>\n",
       "      <td>AUTOMATIC</td>\n",
       "      <td>all wheel drive</td>\n",
       "      <td>4.0</td>\n",
       "      <td>Crossover,Hatchback,Luxury</td>\n",
       "      <td>Midsize</td>\n",
       "      <td>4dr Hatchback</td>\n",
       "      <td>23</td>\n",
       "      <td>16</td>\n",
       "      <td>204</td>\n",
       "      <td>56670</td>\n",
       "    </tr>\n",
       "    <tr>\n",
       "      <th>11911</th>\n",
       "      <td>Acura</td>\n",
       "      <td>ZDX</td>\n",
       "      <td>2012</td>\n",
       "      <td>premium unleaded (required)</td>\n",
       "      <td>300.0</td>\n",
       "      <td>6.0</td>\n",
       "      <td>AUTOMATIC</td>\n",
       "      <td>all wheel drive</td>\n",
       "      <td>4.0</td>\n",
       "      <td>Crossover,Hatchback,Luxury</td>\n",
       "      <td>Midsize</td>\n",
       "      <td>4dr Hatchback</td>\n",
       "      <td>23</td>\n",
       "      <td>16</td>\n",
       "      <td>204</td>\n",
       "      <td>50620</td>\n",
       "    </tr>\n",
       "    <tr>\n",
       "      <th>11912</th>\n",
       "      <td>Acura</td>\n",
       "      <td>ZDX</td>\n",
       "      <td>2013</td>\n",
       "      <td>premium unleaded (recommended)</td>\n",
       "      <td>300.0</td>\n",
       "      <td>6.0</td>\n",
       "      <td>AUTOMATIC</td>\n",
       "      <td>all wheel drive</td>\n",
       "      <td>4.0</td>\n",
       "      <td>Crossover,Hatchback,Luxury</td>\n",
       "      <td>Midsize</td>\n",
       "      <td>4dr Hatchback</td>\n",
       "      <td>23</td>\n",
       "      <td>16</td>\n",
       "      <td>204</td>\n",
       "      <td>50920</td>\n",
       "    </tr>\n",
       "    <tr>\n",
       "      <th>11913</th>\n",
       "      <td>Lincoln</td>\n",
       "      <td>Zephyr</td>\n",
       "      <td>2006</td>\n",
       "      <td>regular unleaded</td>\n",
       "      <td>221.0</td>\n",
       "      <td>6.0</td>\n",
       "      <td>AUTOMATIC</td>\n",
       "      <td>front wheel drive</td>\n",
       "      <td>4.0</td>\n",
       "      <td>Luxury</td>\n",
       "      <td>Midsize</td>\n",
       "      <td>Sedan</td>\n",
       "      <td>26</td>\n",
       "      <td>17</td>\n",
       "      <td>61</td>\n",
       "      <td>28995</td>\n",
       "    </tr>\n",
       "  </tbody>\n",
       "</table>\n",
       "<p>11914 rows × 16 columns</p>\n",
       "</div>"
      ],
      "text/plain": [
       "          Make       Model  Year                Engine Fuel Type  Engine HP  \\\n",
       "0          BMW  1 Series M  2011     premium unleaded (required)      335.0   \n",
       "1          BMW    1 Series  2011     premium unleaded (required)      300.0   \n",
       "2          BMW    1 Series  2011     premium unleaded (required)      300.0   \n",
       "3          BMW    1 Series  2011     premium unleaded (required)      230.0   \n",
       "4          BMW    1 Series  2011     premium unleaded (required)      230.0   \n",
       "...        ...         ...   ...                             ...        ...   \n",
       "11909    Acura         ZDX  2012     premium unleaded (required)      300.0   \n",
       "11910    Acura         ZDX  2012     premium unleaded (required)      300.0   \n",
       "11911    Acura         ZDX  2012     premium unleaded (required)      300.0   \n",
       "11912    Acura         ZDX  2013  premium unleaded (recommended)      300.0   \n",
       "11913  Lincoln      Zephyr  2006                regular unleaded      221.0   \n",
       "\n",
       "       Engine Cylinders Transmission Type      Driven_Wheels  Number of Doors  \\\n",
       "0                   6.0            MANUAL   rear wheel drive              2.0   \n",
       "1                   6.0            MANUAL   rear wheel drive              2.0   \n",
       "2                   6.0            MANUAL   rear wheel drive              2.0   \n",
       "3                   6.0            MANUAL   rear wheel drive              2.0   \n",
       "4                   6.0            MANUAL   rear wheel drive              2.0   \n",
       "...                 ...               ...                ...              ...   \n",
       "11909               6.0         AUTOMATIC    all wheel drive              4.0   \n",
       "11910               6.0         AUTOMATIC    all wheel drive              4.0   \n",
       "11911               6.0         AUTOMATIC    all wheel drive              4.0   \n",
       "11912               6.0         AUTOMATIC    all wheel drive              4.0   \n",
       "11913               6.0         AUTOMATIC  front wheel drive              4.0   \n",
       "\n",
       "                             Market Category Vehicle Size  Vehicle Style  \\\n",
       "0      Factory Tuner,Luxury,High-Performance      Compact          Coupe   \n",
       "1                         Luxury,Performance      Compact    Convertible   \n",
       "2                    Luxury,High-Performance      Compact          Coupe   \n",
       "3                         Luxury,Performance      Compact          Coupe   \n",
       "4                                     Luxury      Compact    Convertible   \n",
       "...                                      ...          ...            ...   \n",
       "11909             Crossover,Hatchback,Luxury      Midsize  4dr Hatchback   \n",
       "11910             Crossover,Hatchback,Luxury      Midsize  4dr Hatchback   \n",
       "11911             Crossover,Hatchback,Luxury      Midsize  4dr Hatchback   \n",
       "11912             Crossover,Hatchback,Luxury      Midsize  4dr Hatchback   \n",
       "11913                                 Luxury      Midsize          Sedan   \n",
       "\n",
       "       highway MPG  city mpg  Popularity   MSRP  \n",
       "0               26        19        3916  46135  \n",
       "1               28        19        3916  40650  \n",
       "2               28        20        3916  36350  \n",
       "3               28        18        3916  29450  \n",
       "4               28        18        3916  34500  \n",
       "...            ...       ...         ...    ...  \n",
       "11909           23        16         204  46120  \n",
       "11910           23        16         204  56670  \n",
       "11911           23        16         204  50620  \n",
       "11912           23        16         204  50920  \n",
       "11913           26        17          61  28995  \n",
       "\n",
       "[11914 rows x 16 columns]"
      ]
     },
     "execution_count": 5,
     "metadata": {},
     "output_type": "execute_result"
    }
   ],
   "source": [
    "pd.read_csv(\"data.csv\")\n"
   ]
  },
  {
   "cell_type": "markdown",
   "metadata": {},
   "source": [
    "Question 3: The most popular car manufacturers\n"
   ]
  },
  {
   "cell_type": "code",
   "execution_count": 7,
   "metadata": {},
   "outputs": [],
   "source": [
    "df=pd.read_csv(\"data.csv\")"
   ]
  },
  {
   "cell_type": "code",
   "execution_count": 21,
   "metadata": {},
   "outputs": [
    {
     "data": {
      "text/plain": [
       "Index(['Make', 'Model', 'Year', 'Engine Fuel Type', 'Engine HP',\n",
       "       'Engine Cylinders', 'Transmission Type', 'Driven_Wheels',\n",
       "       'Number of Doors', 'Market Category', 'Vehicle Size', 'Vehicle Style',\n",
       "       'highway MPG', 'city mpg', 'Popularity', 'MSRP'],\n",
       "      dtype='object')"
      ]
     },
     "execution_count": 21,
     "metadata": {},
     "output_type": "execute_result"
    }
   ],
   "source": [
    "df.columns"
   ]
  },
  {
   "cell_type": "code",
   "execution_count": 40,
   "metadata": {
    "scrolled": false
   },
   "outputs": [],
   "source": [
    "new_df=df.drop_duplicates('Popularity')\n"
   ]
  },
  {
   "cell_type": "code",
   "execution_count": null,
   "metadata": {},
   "outputs": [],
   "source": [
    "new_df.nlargest(n=3,columns='Popularity')"
   ]
  },
  {
   "cell_type": "code",
   "execution_count": 42,
   "metadata": {
    "scrolled": true
   },
   "outputs": [
    {
     "name": "stdout",
     "output_type": "stream",
     "text": [
      "                Make               Model  Year  \\\n",
      "0                BMW          1 Series M  2011   \n",
      "17              Audi                 100  1992   \n",
      "32              FIAT          124 Spider  2017   \n",
      "35     Mercedes-Benz           190-Class  1991   \n",
      "64          Chrysler                 200  2015   \n",
      "87            Nissan               200SX  1996   \n",
      "104            Volvo                 240  1991   \n",
      "112            Mazda                   2  2012   \n",
      "194       Mitsubishi              3000GT  1997   \n",
      "294          Ferrari                 360  2002   \n",
      "474       Alfa Romeo                  4C  2015   \n",
      "479           Toyota             4Runner  2014   \n",
      "604          McLaren                570S  2016   \n",
      "611          Maybach                  57  2010   \n",
      "674          Pontiac                6000  1990   \n",
      "736          Porsche          718 Cayman  2017   \n",
      "800             Saab                9-2X  2005   \n",
      "1137             GMC      Acadia Limited  2017   \n",
      "1171         Hyundai              Accent  2014   \n",
      "1189        Plymouth             Acclaim  1993   \n",
      "1192           Honda    Accord Crosstour  2010   \n",
      "1287      Oldsmobile             Achieva  1996   \n",
      "1300          Suzuki               Aerio  2005   \n",
      "1331            Ford            Aerostar  1995   \n",
      "1367        Cadillac             Allante  1991   \n",
      "1426             Kia              Amanti  2007   \n",
      "1452         Bentley              Arnage  2007   \n",
      "1476       Chevrolet         Astro Cargo  2003   \n",
      "1610           Dodge             Avenger  2012   \n",
      "1620     Lamborghini           Aventador  2014   \n",
      "1650         Lincoln             Aviator  2003   \n",
      "1747          Subaru          B9 Tribeca  2006   \n",
      "1792      Volkswagen  Beetle Convertible  2014   \n",
      "2116          Spyker                  C8  2009   \n",
      "2341           Buick             Cascada  2016   \n",
      "2696           Acura                  CL  2001   \n",
      "2921     Rolls-Royce            Corniche  2001   \n",
      "3030        Maserati               Coupe  2004   \n",
      "3173           Lexus             CT 200h  2015   \n",
      "3520    Aston Martin                 DB7  2003   \n",
      "3551      Land Rover            Defender  1994   \n",
      "3912           Lotus               Elise  2009   \n",
      "4269        Infiniti                EX35  2008   \n",
      "4893           Scion                FR-S  2014   \n",
      "5202         Genesis                 G80  2017   \n",
      "5692          HUMMER                  H3  2008   \n",
      "6921           Tesla             Model S  2014   \n",
      "11362        Bugatti         Veyron 16.4  2008   \n",
      "\n",
      "                     Engine Fuel Type  Engine HP  Engine Cylinders  \\\n",
      "0         premium unleaded (required)      335.0               6.0   \n",
      "17                   regular unleaded      172.0               6.0   \n",
      "32     premium unleaded (recommended)      160.0               4.0   \n",
      "35                   regular unleaded      130.0               4.0   \n",
      "64           flex-fuel (unleaded/E85)      184.0               4.0   \n",
      "87                   regular unleaded      115.0               4.0   \n",
      "104                  regular unleaded      114.0               4.0   \n",
      "112                  regular unleaded      100.0               4.0   \n",
      "194                  regular unleaded      218.0               6.0   \n",
      "294       premium unleaded (required)      400.0               8.0   \n",
      "474       premium unleaded (required)      237.0               4.0   \n",
      "479                  regular unleaded      270.0               6.0   \n",
      "604       premium unleaded (required)      562.0               8.0   \n",
      "611       premium unleaded (required)      543.0              12.0   \n",
      "674                  regular unleaded      140.0               6.0   \n",
      "736       premium unleaded (required)      300.0               4.0   \n",
      "800       premium unleaded (required)      227.0               4.0   \n",
      "1137                 regular unleaded      281.0               6.0   \n",
      "1171                 regular unleaded      138.0               4.0   \n",
      "1189                 regular unleaded      100.0               4.0   \n",
      "1192                 regular unleaded      271.0               6.0   \n",
      "1287                 regular unleaded      150.0               4.0   \n",
      "1300                 regular unleaded      155.0               4.0   \n",
      "1331                 regular unleaded      135.0               6.0   \n",
      "1367                 regular unleaded      200.0               8.0   \n",
      "1426                 regular unleaded      264.0               6.0   \n",
      "1452      premium unleaded (required)      450.0               8.0   \n",
      "1476                 regular unleaded      190.0               6.0   \n",
      "1610         flex-fuel (unleaded/E85)      283.0               6.0   \n",
      "1620      premium unleaded (required)      700.0              12.0   \n",
      "1650      premium unleaded (required)      302.0               8.0   \n",
      "1747      premium unleaded (required)      250.0               6.0   \n",
      "1792                 regular unleaded      170.0               4.0   \n",
      "2116      premium unleaded (required)      400.0               8.0   \n",
      "2341   premium unleaded (recommended)      200.0               4.0   \n",
      "2696      premium unleaded (required)      225.0               6.0   \n",
      "2921      premium unleaded (required)      325.0               8.0   \n",
      "3030      premium unleaded (required)      390.0               8.0   \n",
      "3173                 regular unleaded      134.0               4.0   \n",
      "3520      premium unleaded (required)      420.0              12.0   \n",
      "3551                 regular unleaded      182.0               8.0   \n",
      "3912      premium unleaded (required)      189.0               4.0   \n",
      "4269   premium unleaded (recommended)      297.0               6.0   \n",
      "4893      premium unleaded (required)      200.0               4.0   \n",
      "5202                 regular unleaded      311.0               6.0   \n",
      "5692                 regular unleaded      242.0               5.0   \n",
      "6921                         electric        NaN               0.0   \n",
      "11362     premium unleaded (required)     1001.0              16.0   \n",
      "\n",
      "      Transmission Type      Driven_Wheels  Number of Doors  \\\n",
      "0                MANUAL   rear wheel drive              2.0   \n",
      "17               MANUAL  front wheel drive              4.0   \n",
      "32               MANUAL   rear wheel drive              2.0   \n",
      "35               MANUAL   rear wheel drive              4.0   \n",
      "64            AUTOMATIC  front wheel drive              4.0   \n",
      "87               MANUAL  front wheel drive              2.0   \n",
      "104              MANUAL   rear wheel drive              4.0   \n",
      "112              MANUAL  front wheel drive              4.0   \n",
      "194              MANUAL  front wheel drive              2.0   \n",
      "294              MANUAL   rear wheel drive              2.0   \n",
      "474    AUTOMATED_MANUAL   rear wheel drive              2.0   \n",
      "479           AUTOMATIC   rear wheel drive              4.0   \n",
      "604    AUTOMATED_MANUAL   rear wheel drive              2.0   \n",
      "611           AUTOMATIC   rear wheel drive              4.0   \n",
      "674           AUTOMATIC  front wheel drive              4.0   \n",
      "736              MANUAL   rear wheel drive              2.0   \n",
      "800              MANUAL    all wheel drive              4.0   \n",
      "1137          AUTOMATIC  front wheel drive              4.0   \n",
      "1171          AUTOMATIC  front wheel drive              4.0   \n",
      "1189             MANUAL  front wheel drive              4.0   \n",
      "1192          AUTOMATIC    all wheel drive              4.0   \n",
      "1287             MANUAL  front wheel drive              4.0   \n",
      "1300          AUTOMATIC    all wheel drive              4.0   \n",
      "1331          AUTOMATIC   rear wheel drive              3.0   \n",
      "1367          AUTOMATIC  front wheel drive              2.0   \n",
      "1426          AUTOMATIC  front wheel drive              4.0   \n",
      "1452          AUTOMATIC   rear wheel drive              4.0   \n",
      "1476          AUTOMATIC   rear wheel drive              3.0   \n",
      "1610          AUTOMATIC  front wheel drive              4.0   \n",
      "1620   AUTOMATED_MANUAL    all wheel drive              2.0   \n",
      "1650          AUTOMATIC    all wheel drive              4.0   \n",
      "1747          AUTOMATIC    all wheel drive              4.0   \n",
      "1792          AUTOMATIC  front wheel drive              2.0   \n",
      "2116             MANUAL   rear wheel drive              2.0   \n",
      "2341          AUTOMATIC  front wheel drive              2.0   \n",
      "2696          AUTOMATIC  front wheel drive              2.0   \n",
      "2921          AUTOMATIC   rear wheel drive              2.0   \n",
      "3030             MANUAL   rear wheel drive              2.0   \n",
      "3173          AUTOMATIC  front wheel drive              4.0   \n",
      "3520          AUTOMATIC   rear wheel drive              2.0   \n",
      "3551             MANUAL   four wheel drive              2.0   \n",
      "3912             MANUAL   rear wheel drive              2.0   \n",
      "4269          AUTOMATIC   rear wheel drive              4.0   \n",
      "4893             MANUAL   rear wheel drive              2.0   \n",
      "5202          AUTOMATIC   rear wheel drive              4.0   \n",
      "5692             MANUAL   four wheel drive              4.0   \n",
      "6921       DIRECT_DRIVE   rear wheel drive              4.0   \n",
      "11362  AUTOMATED_MANUAL    all wheel drive              2.0   \n",
      "\n",
      "                             Market Category Vehicle Size  Vehicle Style  \\\n",
      "0      Factory Tuner,Luxury,High-Performance      Compact          Coupe   \n",
      "17                                    Luxury      Midsize          Sedan   \n",
      "32                               Performance      Compact    Convertible   \n",
      "35                                    Luxury      Compact          Sedan   \n",
      "64                                 Flex Fuel      Midsize          Sedan   \n",
      "87                                       NaN      Compact          Coupe   \n",
      "104                                   Luxury      Midsize          Wagon   \n",
      "112                                Hatchback      Compact  4dr Hatchback   \n",
      "194                    Hatchback,Performance      Compact  2dr Hatchback   \n",
      "294                  Exotic,High-Performance      Compact    Convertible   \n",
      "474                  Luxury,High-Performance      Compact    Convertible   \n",
      "479                                      NaN      Midsize        4dr SUV   \n",
      "604                  Exotic,High-Performance      Compact          Coupe   \n",
      "611                            Exotic,Luxury        Large          Sedan   \n",
      "674                                      NaN      Midsize          Sedan   \n",
      "736                  Luxury,High-Performance      Compact          Coupe   \n",
      "800                       Luxury,Performance      Compact          Wagon   \n",
      "1137                               Crossover      Midsize        4dr SUV   \n",
      "1171                               Hatchback      Compact  4dr Hatchback   \n",
      "1189                                     NaN      Compact          Sedan   \n",
      "1192                     Crossover,Hatchback      Midsize  4dr Hatchback   \n",
      "1287                                     NaN      Midsize          Sedan   \n",
      "1300                                     NaN      Compact          Sedan   \n",
      "1331                                     NaN      Midsize  Cargo Minivan   \n",
      "1367                      Luxury,Performance      Compact    Convertible   \n",
      "1426                                     NaN      Midsize          Sedan   \n",
      "1452               Exotic,Luxury,Performance        Large          Sedan   \n",
      "1476                                     NaN        Large  Cargo Minivan   \n",
      "1610                   Flex Fuel,Performance      Midsize          Sedan   \n",
      "1620                 Exotic,High-Performance      Midsize    Convertible   \n",
      "1650                                  Luxury      Midsize        4dr SUV   \n",
      "1747                               Crossover      Midsize        4dr SUV   \n",
      "1792                                     NaN      Compact    Convertible   \n",
      "2116                 Exotic,High-Performance      Compact          Coupe   \n",
      "2341                                     NaN      Midsize    Convertible   \n",
      "2696                                  Luxury      Midsize          Coupe   \n",
      "2921                           Exotic,Luxury        Large    Convertible   \n",
      "3030          Exotic,Luxury,High-Performance      Compact          Coupe   \n",
      "3173                 Hatchback,Luxury,Hybrid      Compact  4dr Hatchback   \n",
      "3520   Exotic,Factory Tuner,High-Performance      Compact          Coupe   \n",
      "3551                                  Luxury      Compact        2dr SUV   \n",
      "3912                 Exotic,High-Performance      Compact    Convertible   \n",
      "4269                        Crossover,Luxury      Midsize        4dr SUV   \n",
      "4893                             Performance      Compact          Coupe   \n",
      "5202                      Luxury,Performance        Large          Sedan   \n",
      "5692                                  Luxury      Midsize        4dr SUV   \n",
      "6921                 Exotic,High-Performance        Large          Sedan   \n",
      "11362                Exotic,High-Performance      Compact          Coupe   \n",
      "\n",
      "       highway MPG  city mpg  Popularity     MSRP  \n",
      "0               26        19        3916    46135  \n",
      "17              24        17        3105     2000  \n",
      "32              35        26         819    27495  \n",
      "35              26        18         617     2000  \n",
      "64              36        23        1013    25170  \n",
      "87              36        26        2009     2000  \n",
      "104             26        19         870     2000  \n",
      "112             35        29         586    16020  \n",
      "194             23        17         436     3941  \n",
      "294             15        10        2774   160829  \n",
      "474             34        24         113    63900  \n",
      "479             23        17        2031    41365  \n",
      "604             23        16         416   184900  \n",
      "611             16        10          67   366000  \n",
      "674             27        17         210     2000  \n",
      "736             28        21        1715    53900  \n",
      "800             24        17         376    26950  \n",
      "1137            22        15         549    43850  \n",
      "1171            37        27        1439    17395  \n",
      "1189            29        22         535     2000  \n",
      "1192            25        17        2202    34020  \n",
      "1287            30        20          26     2000  \n",
      "1300            26        21         481    17049  \n",
      "1331            22        16        5657     2000  \n",
      "1367            20        14        1624     2000  \n",
      "1426            24        17        1720    25495  \n",
      "1452            15        10         520   221990  \n",
      "1476            21        15        1385    22050  \n",
      "1610            29        19        1851    25995  \n",
      "1620            16        10        1158   441600  \n",
      "1650            17        12          61    45125  \n",
      "1747            21        16         640    30695  \n",
      "1792            32        24         873    27295  \n",
      "2116            18        13           2   209990  \n",
      "2341            27        20         155    33065  \n",
      "2696            27        17         204    29980  \n",
      "2921            15        10          86   359990  \n",
      "3030            15        10         238    81013  \n",
      "3173            40        43         454    32200  \n",
      "3520            18        11         259   156300  \n",
      "3551            15        12         258    27736  \n",
      "3912            27        21         613    43995  \n",
      "4269            24        17         190    31900  \n",
      "4893            30        22         105    24700  \n",
      "5202            28        18          21    41400  \n",
      "5692            18        13         130    39290  \n",
      "6921            90        88        1391    79900  \n",
      "11362           14         8         820  2065902  \n"
     ]
    }
   ],
   "source": [
    "print(new_df.head(200))"
   ]
  },
  {
   "cell_type": "markdown",
   "metadata": {},
   "source": [
    "Question 4: Number of unique Audi car models"
   ]
  },
  {
   "cell_type": "code",
   "execution_count": 46,
   "metadata": {
    "scrolled": true
   },
   "outputs": [
    {
     "data": {
      "text/plain": [
       "Make\n",
       "Acura            18\n",
       "Alfa Romeo        1\n",
       "Aston Martin     12\n",
       "Audi             34\n",
       "BMW              39\n",
       "Bentley          18\n",
       "Bugatti           1\n",
       "Buick            20\n",
       "Cadillac         30\n",
       "Chevrolet        63\n",
       "Chrysler         19\n",
       "Dodge            33\n",
       "FIAT              5\n",
       "Ferrari          14\n",
       "Ford             51\n",
       "GMC              30\n",
       "Genesis           1\n",
       "HUMMER            2\n",
       "Honda            21\n",
       "Hyundai          22\n",
       "Infiniti         38\n",
       "Kia              16\n",
       "Lamborghini       6\n",
       "Land Rover       11\n",
       "Lexus            46\n",
       "Lincoln          16\n",
       "Lotus             5\n",
       "Maserati          8\n",
       "Maybach           3\n",
       "Mazda            31\n",
       "McLaren           4\n",
       "Mercedes-Benz    40\n",
       "Mitsubishi       22\n",
       "Nissan           32\n",
       "Oldsmobile       18\n",
       "Plymouth         10\n",
       "Pontiac          20\n",
       "Porsche          12\n",
       "Rolls-Royce      10\n",
       "Saab              8\n",
       "Scion             8\n",
       "Spyker            1\n",
       "Subaru           16\n",
       "Suzuki           16\n",
       "Tesla             1\n",
       "Toyota           39\n",
       "Volkswagen       31\n",
       "Volvo            26\n",
       "Name: Model, dtype: int64"
      ]
     },
     "execution_count": 46,
     "metadata": {},
     "output_type": "execute_result"
    }
   ],
   "source": [
    "df.groupby('Make')['Model'].nunique()"
   ]
  },
  {
   "cell_type": "markdown",
   "metadata": {},
   "source": [
    "Question 5: Number of columns with missing values\n"
   ]
  },
  {
   "cell_type": "code",
   "execution_count": 52,
   "metadata": {
    "scrolled": true
   },
   "outputs": [
    {
     "name": "stdout",
     "output_type": "stream",
     "text": [
      "Make                 False\n",
      "Model                False\n",
      "Year                 False\n",
      "Engine Fuel Type      True\n",
      "Engine HP             True\n",
      "Engine Cylinders      True\n",
      "Transmission Type    False\n",
      "Driven_Wheels        False\n",
      "Number of Doors       True\n",
      "Market Category       True\n",
      "Vehicle Size         False\n",
      "Vehicle Style        False\n",
      "highway MPG          False\n",
      "city mpg             False\n",
      "Popularity           False\n",
      "MSRP                 False\n",
      "dtype: bool\n"
     ]
    },
    {
     "data": {
      "text/plain": [
       "'isnull function is used to find null values .any display column that have atlest 1 null value if i \\nwant to display rows having null value then i will mention .any(axis=1)'"
      ]
     },
     "execution_count": 52,
     "metadata": {},
     "output_type": "execute_result"
    }
   ],
   "source": [
    "print(df.isnull().any())\n",
    "'''isnull function is used to find null values .any display column that have atlest 1 null value if i \n",
    "want to display rows having null value then i will mention .any(axis=1)'''\n"
   ]
  },
  {
   "cell_type": "markdown",
   "metadata": {},
   "source": [
    "Question 6:\n",
    "^Find the median value of \"Engine Cylinders\" column in the dataset.\n",
    "^Next, calculate the most frequent value of the same \"Engine Cylinders\".\n",
    "^Use the fillna method to fill the missing values in \"Engine Cylinders\" with the most frequent value from the previous step.\n",
    "^Now, calculate the median value of \"Engine Cylinders\" once again.\n",
    "^Has it changed?"
   ]
  },
  {
   "cell_type": "code",
   "execution_count": 8,
   "metadata": {},
   "outputs": [
    {
     "data": {
      "text/plain": [
       "6.0"
      ]
     },
     "execution_count": 8,
     "metadata": {},
     "output_type": "execute_result"
    }
   ],
   "source": [
    "df['Engine Cylinders'].median()"
   ]
  },
  {
   "cell_type": "code",
   "execution_count": 9,
   "metadata": {},
   "outputs": [
    {
     "data": {
      "text/plain": [
       "0    4.0\n",
       "dtype: float64"
      ]
     },
     "execution_count": 9,
     "metadata": {},
     "output_type": "execute_result"
    }
   ],
   "source": [
    "df['Engine Cylinders'].mode()"
   ]
  },
  {
   "cell_type": "code",
   "execution_count": 13,
   "metadata": {},
   "outputs": [
    {
     "data": {
      "text/plain": [
       "0        6.0\n",
       "1        6.0\n",
       "2        6.0\n",
       "3        6.0\n",
       "4        6.0\n",
       "        ... \n",
       "11909    6.0\n",
       "11910    6.0\n",
       "11911    6.0\n",
       "11912    6.0\n",
       "11913    6.0\n",
       "Name: Engine Cylinders, Length: 11914, dtype: float64"
      ]
     },
     "execution_count": 13,
     "metadata": {},
     "output_type": "execute_result"
    }
   ],
   "source": [
    "df['Engine Cylinders'].fillna(4.0)"
   ]
  },
  {
   "cell_type": "code",
   "execution_count": 14,
   "metadata": {},
   "outputs": [
    {
     "data": {
      "text/plain": [
       "6.0"
      ]
     },
     "execution_count": 14,
     "metadata": {},
     "output_type": "execute_result"
    }
   ],
   "source": [
    "df['Engine Cylinders'].median()"
   ]
  },
  {
   "cell_type": "markdown",
   "metadata": {},
   "source": [
    "Question 7\n",
    "^Select all the \"Lotus\" cars from the dataset.\n",
    "^Select only columns \"Engine HP\", \"Engine Cylinders\".\n",
    "^Now drop all duplicated rows using drop_duplicates method (you should get a dataframe with 9 rows).\n",
    "^Get the underlying NumPy array. Let's call it X.\n",
    "^Compute matrix-matrix multiplication between the transpose of X and X. To get the transpose, use X.T. Let's call the result   XTX.\n",
    "^Invert XTX.\n",
    "^Create an array y with values [1100, 800, 750, 850, 1300, 1000, 1000, 1300, 800].\n",
    "^Multiply the inverse of XTX with the transpose of X, and then multiply the result by y. Call the result w.\n",
    "^What's the value of the first element of w?"
   ]
  },
  {
   "cell_type": "code",
   "execution_count": 17,
   "metadata": {},
   "outputs": [],
   "source": [
    "df_lotus=df.loc[df['Make']=='Lotus']"
   ]
  },
  {
   "cell_type": "code",
   "execution_count": 32,
   "metadata": {
    "scrolled": true
   },
   "outputs": [],
   "source": [
    "a=df_lotus[['Engine HP', 'Engine Cylinders']]"
   ]
  },
  {
   "cell_type": "code",
   "execution_count": 33,
   "metadata": {},
   "outputs": [
    {
     "data": {
      "text/html": [
       "<div>\n",
       "<style scoped>\n",
       "    .dataframe tbody tr th:only-of-type {\n",
       "        vertical-align: middle;\n",
       "    }\n",
       "\n",
       "    .dataframe tbody tr th {\n",
       "        vertical-align: top;\n",
       "    }\n",
       "\n",
       "    .dataframe thead th {\n",
       "        text-align: right;\n",
       "    }\n",
       "</style>\n",
       "<table border=\"1\" class=\"dataframe\">\n",
       "  <thead>\n",
       "    <tr style=\"text-align: right;\">\n",
       "      <th></th>\n",
       "      <th>Engine HP</th>\n",
       "      <th>Engine Cylinders</th>\n",
       "    </tr>\n",
       "  </thead>\n",
       "  <tbody>\n",
       "    <tr>\n",
       "      <th>3912</th>\n",
       "      <td>189.0</td>\n",
       "      <td>4.0</td>\n",
       "    </tr>\n",
       "    <tr>\n",
       "      <th>3913</th>\n",
       "      <td>218.0</td>\n",
       "      <td>4.0</td>\n",
       "    </tr>\n",
       "    <tr>\n",
       "      <th>3918</th>\n",
       "      <td>217.0</td>\n",
       "      <td>4.0</td>\n",
       "    </tr>\n",
       "    <tr>\n",
       "      <th>4216</th>\n",
       "      <td>350.0</td>\n",
       "      <td>8.0</td>\n",
       "    </tr>\n",
       "    <tr>\n",
       "      <th>4257</th>\n",
       "      <td>400.0</td>\n",
       "      <td>6.0</td>\n",
       "    </tr>\n",
       "    <tr>\n",
       "      <th>4259</th>\n",
       "      <td>276.0</td>\n",
       "      <td>6.0</td>\n",
       "    </tr>\n",
       "    <tr>\n",
       "      <th>4262</th>\n",
       "      <td>345.0</td>\n",
       "      <td>6.0</td>\n",
       "    </tr>\n",
       "    <tr>\n",
       "      <th>4292</th>\n",
       "      <td>257.0</td>\n",
       "      <td>4.0</td>\n",
       "    </tr>\n",
       "    <tr>\n",
       "      <th>4293</th>\n",
       "      <td>240.0</td>\n",
       "      <td>4.0</td>\n",
       "    </tr>\n",
       "  </tbody>\n",
       "</table>\n",
       "</div>"
      ],
      "text/plain": [
       "      Engine HP  Engine Cylinders\n",
       "3912      189.0               4.0\n",
       "3913      218.0               4.0\n",
       "3918      217.0               4.0\n",
       "4216      350.0               8.0\n",
       "4257      400.0               6.0\n",
       "4259      276.0               6.0\n",
       "4262      345.0               6.0\n",
       "4292      257.0               4.0\n",
       "4293      240.0               4.0"
      ]
     },
     "execution_count": 33,
     "metadata": {},
     "output_type": "execute_result"
    }
   ],
   "source": [
    "a.drop_duplicates()"
   ]
  },
  {
   "cell_type": "code",
   "execution_count": 34,
   "metadata": {},
   "outputs": [],
   "source": [
    "new=a.drop_duplicates()"
   ]
  },
  {
   "cell_type": "code",
   "execution_count": 35,
   "metadata": {},
   "outputs": [
    {
     "data": {
      "text/plain": [
       "array([[189.,   4.],\n",
       "       [218.,   4.],\n",
       "       [217.,   4.],\n",
       "       [350.,   8.],\n",
       "       [400.,   6.],\n",
       "       [276.,   6.],\n",
       "       [345.,   6.],\n",
       "       [257.,   4.],\n",
       "       [240.,   4.]])"
      ]
     },
     "execution_count": 35,
     "metadata": {},
     "output_type": "execute_result"
    }
   ],
   "source": [
    "new.to_numpy()"
   ]
  },
  {
   "cell_type": "code",
   "execution_count": 36,
   "metadata": {},
   "outputs": [],
   "source": [
    "x=new.to_numpy()"
   ]
  },
  {
   "cell_type": "code",
   "execution_count": 37,
   "metadata": {},
   "outputs": [
    {
     "data": {
      "text/plain": [
       "array([[189., 218., 217., 350., 400., 276., 345., 257., 240.],\n",
       "       [  4.,   4.,   4.,   8.,   6.,   6.,   6.,   4.,   4.]])"
      ]
     },
     "execution_count": 37,
     "metadata": {},
     "output_type": "execute_result"
    }
   ],
   "source": [
    "np.transpose(x)"
   ]
  },
  {
   "cell_type": "code",
   "execution_count": 42,
   "metadata": {},
   "outputs": [],
   "source": [
    "xt=np.transpose(x)#transpose of x(np array)"
   ]
  },
  {
   "cell_type": "code",
   "execution_count": 48,
   "metadata": {},
   "outputs": [
    {
     "data": {
      "text/plain": [
       "array([[7.31684e+05, 1.34100e+04],\n",
       "       [1.34100e+04, 2.52000e+02]])"
      ]
     },
     "execution_count": 48,
     "metadata": {},
     "output_type": "execute_result"
    }
   ],
   "source": [
    "np.matmul(xt,x)"
   ]
  },
  {
   "cell_type": "code",
   "execution_count": 49,
   "metadata": {},
   "outputs": [],
   "source": [
    "xtx=np.matmul(xt,x)"
   ]
  },
  {
   "cell_type": "code",
   "execution_count": 52,
   "metadata": {},
   "outputs": [
    {
     "data": {
      "text/plain": [
       "array([[ 5.53084235e-05, -2.94319825e-03],\n",
       "       [-2.94319825e-03,  1.60588447e-01]])"
      ]
     },
     "execution_count": 52,
     "metadata": {},
     "output_type": "execute_result"
    }
   ],
   "source": [
    "np.linalg.inv(xtx)"
   ]
  },
  {
   "cell_type": "code",
   "execution_count": 54,
   "metadata": {},
   "outputs": [],
   "source": [
    "inverse=np.linalg.inv(xtx)"
   ]
  },
  {
   "cell_type": "code",
   "execution_count": 53,
   "metadata": {},
   "outputs": [],
   "source": [
    "y=[1100, 800, 750, 850, 1300, 1000, 1000, 1300, 800]"
   ]
  },
  {
   "cell_type": "code",
   "execution_count": 61,
   "metadata": {},
   "outputs": [
    {
     "data": {
      "text/plain": [
       "array([[-1.31950096e-03,  2.84443321e-04,  2.29134897e-04,\n",
       "        -4.18763778e-03,  4.46417989e-03, -2.39406462e-03,\n",
       "         1.42221660e-03,  2.44147184e-03,  1.50122864e-03],\n",
       "       [ 8.60893170e-02,  7.36567735e-04,  3.67976598e-03,\n",
       "         2.54588185e-01, -2.13748621e-01,  1.51207962e-01,\n",
       "        -5.18727169e-02, -1.14048164e-01, -6.40137937e-02]])"
      ]
     },
     "execution_count": 61,
     "metadata": {},
     "output_type": "execute_result"
    }
   ],
   "source": [
    "transpose_xtx=np.transpose(xtx)\n",
    "np.matmul(inverse,xt)"
   ]
  },
  {
   "cell_type": "code",
   "execution_count": 63,
   "metadata": {},
   "outputs": [],
   "source": [
    "mul=np.matmul(inverse,xt)\n",
    "w=np.matmul(mul,y)"
   ]
  },
  {
   "cell_type": "code",
   "execution_count": 64,
   "metadata": {},
   "outputs": [
    {
     "data": {
      "text/plain": [
       "array([  4.59494481, -63.56432501])"
      ]
     },
     "execution_count": 64,
     "metadata": {},
     "output_type": "execute_result"
    }
   ],
   "source": [
    "w"
   ]
  },
  {
   "cell_type": "code",
   "execution_count": null,
   "metadata": {},
   "outputs": [],
   "source": []
  }
 ],
 "metadata": {
  "kernelspec": {
   "display_name": "Python 3",
   "language": "python",
   "name": "python3"
  },
  "language_info": {
   "codemirror_mode": {
    "name": "ipython",
    "version": 3
   },
   "file_extension": ".py",
   "mimetype": "text/x-python",
   "name": "python",
   "nbconvert_exporter": "python",
   "pygments_lexer": "ipython3",
   "version": "3.7.6"
  }
 },
 "nbformat": 4,
 "nbformat_minor": 4
}
